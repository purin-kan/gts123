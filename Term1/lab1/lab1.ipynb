{
 "cells": [
  {
   "cell_type": "code",
   "execution_count": 5,
   "metadata": {},
   "outputs": [
    {
     "name": "stdout",
     "output_type": "stream",
     "text": [
      "1 2 3 4 5 6 7 8 9\n",
      "2               8\n",
      "3               7\n",
      "4               6\n",
      "5 6 7 8 9 8 7 6 5\n",
      "6\n",
      "7\n",
      "8\n",
      "9\n"
     ]
    }
   ],
   "source": [
    "print(\"1 2 3 4 5 6 7 8 9\")\n",
    "print(\"2               8\")\n",
    "print(\"3               7\")\n",
    "print(\"4               6\")\n",
    "print(\"5 6 7 8 9 8 7 6 5\")\n",
    "print(\"6\")\n",
    "print(\"7\")\n",
    "print(\"8\")\n",
    "print(\"9\")"
   ]
  },
  {
   "cell_type": "code",
   "execution_count": 1,
   "metadata": {},
   "outputs": [
    {
     "name": "stdout",
     "output_type": "stream",
     "text": [
      "XX X X X X X X X XX\n",
      "XX 0 X 0 X 0 X 0 XX\n",
      "XX X 0 X 0 X 0 X XX\n",
      "XX 0 X 0 X 0 X 0 XX\n",
      "XX X X X X X X X XX\n"
     ]
    }
   ],
   "source": [
    "print(\"XX X X X X X X X XX\")\n",
    "print(\"XX 0 X 0 X 0 X 0 XX\")\n",
    "print(\"XX X 0 X 0 X 0 X XX\")\n",
    "print(\"XX 0 X 0 X 0 X 0 XX\")\n",
    "print(\"XX X X X X X X X XX\")"
   ]
  },
  {
   "cell_type": "code",
   "execution_count": 2,
   "metadata": {},
   "outputs": [
    {
     "name": "stdout",
     "output_type": "stream",
     "text": [
      "1\n",
      "2 3\n",
      "4 5 6\n",
      "6 7 9 10\n"
     ]
    }
   ],
   "source": [
    "print(\"1\")\n",
    "print(\"2 3\")\n",
    "print(\"4 5 6\")\n",
    "print(\"6 7 9 10\")"
   ]
  },
  {
   "cell_type": "code",
   "execution_count": 3,
   "metadata": {},
   "outputs": [
    {
     "name": "stdout",
     "output_type": "stream",
     "text": [
      "**********\n",
      "*********\n",
      "********\n",
      "*******\n",
      "******\n",
      "*****\n",
      "****\n",
      "***\n",
      "**\n",
      "*\n"
     ]
    }
   ],
   "source": [
    "print(\"**********\")\n",
    "print(\"*********\")\n",
    "print(\"********\")\n",
    "print(\"*******\")\n",
    "print(\"******\")\n",
    "print(\"*****\")\n",
    "print(\"****\")\n",
    "print(\"***\")\n",
    "print(\"**\")\n",
    "print(\"*\")"
   ]
  },
  {
   "cell_type": "code",
   "execution_count": 4,
   "metadata": {},
   "outputs": [
    {
     "name": "stdout",
     "output_type": "stream",
     "text": [
      "h\n",
      "he\n",
      "hel\n",
      "hell\n",
      "hello\n",
      "hello w\n",
      "hello wo\n",
      "hello wor\n",
      "hello worl\n",
      "hello world\n"
     ]
    }
   ],
   "source": [
    "print(\"h\")\n",
    "print(\"he\")\n",
    "print(\"hel\")\n",
    "print(\"hell\")\n",
    "print(\"hello\")\n",
    "print(\"hello w\")\n",
    "print(\"hello wo\")\n",
    "print(\"hello wor\")\n",
    "print(\"hello worl\")\n",
    "print(\"hello world\")"
   ]
  },
  {
   "cell_type": "code",
   "execution_count": 24,
   "metadata": {},
   "outputs": [
    {
     "name": "stdout",
     "output_type": "stream",
     "text": [
      " _____   __   __   ___\n",
      "/ ____) (  ) (  ) (_ _)\n",
      "\\____ \\  )(   )(   )(\n",
      "(_____/ (__) (__) (__)\n"
     ]
    }
   ],
   "source": [
    "print(\" _____   __   __   ___\")\n",
    "print(\"/ ____) (  ) (  ) (_ _)\")\n",
    "print(\"\\____ \\\\  )(   )(   )(\")\n",
    "print(\"(_____/ (__) (__) (__)\")"
   ]
  },
  {
   "cell_type": "code",
   "execution_count": 28,
   "metadata": {},
   "outputs": [
    {
     "name": "stdout",
     "output_type": "stream",
     "text": [
      "     /\\\n",
      "    /**\\\n",
      "   /****\\\n",
      "  /******\\\n",
      " /********\\\n",
      "/**********\\\n",
      "____________\n"
     ]
    }
   ],
   "source": [
    "print(\"     /\\\\\")\n",
    "print(\"    /**\\\\\")\n",
    "print(\"   /****\\\\\")\n",
    "print(\"  /******\\\\\")\n",
    "print(\" /********\\\\\")\n",
    "print(\"/**********\\\\\")\n",
    "print(\"____________\")"
   ]
  },
  {
   "cell_type": "code",
   "execution_count": 34,
   "metadata": {},
   "outputs": [
    {
     "name": "stdout",
     "output_type": "stream",
     "text": [
      "Group Name: Love Python\n",
      "________________________\n",
      "1: 560000001   Aaa Bbb\n",
      "2: 560000002   Ccc Ddd\n",
      "3: 560000021   Eee Fff\n",
      "4: 560000201   Ggg Hhh\n",
      "5: 560000031   Iii Jjj\n"
     ]
    }
   ],
   "source": [
    "print(\"Group Name: Love Python\")\n",
    "print(\"________________________\")\n",
    "print(\"1: 560000001   Aaa Bbb\")\n",
    "print(\"2: 560000002   Ccc Ddd\")\n",
    "print(\"3: 560000021   Eee Fff\")\n",
    "print(\"4: 560000201   Ggg Hhh\")\n",
    "print(\"5: 560000031   Iii Jjj\")\n",
    "\n",
    "\n"
   ]
  },
  {
   "cell_type": "code",
   "execution_count": 36,
   "metadata": {},
   "outputs": [
    {
     "name": "stdout",
     "output_type": "stream",
     "text": [
      "(\\ /)\n",
      "(. .)\n",
      "O(\")(\")\n"
     ]
    }
   ],
   "source": [
    "print(\"\"\"(\\ /)\n",
    "(. .)\n",
    "O(\")(\")\"\"\")"
   ]
  },
  {
   "cell_type": "code",
   "execution_count": 37,
   "metadata": {},
   "outputs": [
    {
     "name": "stdout",
     "output_type": "stream",
     "text": [
      "Name: Purin Kanjanakumnerd\n",
      "Birthday: 09/09/2004\n",
      "Email: 6622770368@g.siit.tu.ac.th\n",
      "Major: CPE\n"
     ]
    }
   ],
   "source": [
    "print(\"Name: Purin Kanjanakumnerd\")\n",
    "print(\"Birthday: 09/09/2004\")\n",
    "print(\"Email: 6622770368@g.siit.tu.ac.th\")\n",
    "print(\"Major: CPE\")"
   ]
  }
 ],
 "metadata": {
  "kernelspec": {
   "display_name": "Python 3",
   "language": "python",
   "name": "python3"
  },
  "language_info": {
   "codemirror_mode": {
    "name": "ipython",
    "version": 3
   },
   "file_extension": ".py",
   "mimetype": "text/x-python",
   "name": "python",
   "nbconvert_exporter": "python",
   "pygments_lexer": "ipython3",
   "version": "3.11.4"
  },
  "orig_nbformat": 4
 },
 "nbformat": 4,
 "nbformat_minor": 2
}
